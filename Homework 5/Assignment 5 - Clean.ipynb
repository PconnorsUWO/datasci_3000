{
 "cells": [
  {
   "cell_type": "markdown",
   "metadata": {
    "id": "m9l0b9ZnSgPd"
   },
   "source": [
    "# Assignment 5: Logistic Regression with Variable Selection\n",
    "\n",
    "## Follow These Steps Before Submitting\n",
    "Once you are finished, ensure to complete the following steps.\n",
    "\n",
    "1.  Restart your kernel by clicking **'Runtime' > 'Restart session and run all'**.\n",
    "\n",
    "2.  Fix any errors which result from this.\n",
    "\n",
    "3.  Repeat steps 1. and 2. until your notebook runs without errors.\n",
    "\n",
    "4.  Submit your completed notebook to OWL by the deadline."
   ]
  },
  {
   "cell_type": "markdown",
   "metadata": {
    "id": "LJCGYX0iRh9j"
   },
   "source": [
    "# Dataset\n",
    "\n",
    "In this assignment, you will work on a dataset taken from USGS(U.S Geological Survey). This dataset contains earthquake data with a magnitude of 4.5+ and an \"alert\" warning level, recorded between 1976 and 2025. Below is an explanation of the columns included in the dataset:\n",
    "\n",
    "- **`id`**: A unique identifier for the earthquake event.\n",
    "- **`time`**: The timestamp indicating when the earthquake or event occurred, including the date and time in UTC format.\n",
    "- **`latitude`**: The geographical latitude of the earthquake's epicenter, measured in degrees.\n",
    "- **`longitude`**: The geographical longitude of the earthquake's epicenter, measured in degrees.\n",
    "- **`depth`**: The depth at which the earthquake occurred, typically measured in kilometers below the Earth's surface.\n",
    "- **`mag`**: The magnitude of the earthquake, representing the energy released by the seismic event. In this case, a value of 8.6 indicates a very large earthquake.\n",
    "- **`gap`**: The azimuthal gap, which refers to the angular distance between the two most distant seismic stations that recorded the earthquake. A smaller gap typically indicates better global coverage.\n",
    "- **`dmin`**: The minimum distance between the earthquake's epicenter and the nearest seismic station, measured in degrees.\n",
    "- **`rms`**: The root mean square of the amplitude of the seismic waves, representing the strength of the seismic signal.\n",
    "- **`horizontalError`**: The error associated with the latitude and longitude coordinates of the epicenter, typically measured in kilometers.\n",
    "- **`depthError`**: The error associated with the depth measurement of the earthquake, typically measured in kilometers.\n",
    "- **`magError`**: The error associated with the magnitude measurement of the earthquake, representing the uncertainty in the reported magnitude.\n",
    "- **`magNst`**: The number of stations that contributed to the magnitude estimation.\n",
    "- **`Alert` (target)** The alert level issued for the earthquake, whether 'Severe' or 'Non-Severe'.\n",
    "\n",
    "The goal is to train a model for predicting the **`Alert`** which indicates the severity of the earthquake.\n",
    "\n"
   ]
  },
  {
   "cell_type": "code",
   "execution_count": 1,
   "metadata": {
    "id": "zoXM0sRHQne_"
   },
   "outputs": [],
   "source": [
    "# Standard imports\n",
    "import numpy as np\n",
    "from itertools import chain, combinations\n",
    "# Data manipulation\n",
    "\n",
    "import pandas as pd\n",
    "import polars as pl\n",
    "# Sklearn imports\n",
    "from sklearn.model_selection import train_test_split, cross_val_score\n",
    "from sklearn.preprocessing import StandardScaler\n",
    "from sklearn.linear_model import LogisticRegression, LogisticRegressionCV\n",
    "from sklearn.metrics import accuracy_score\n",
    "from sklearn.metrics import roc_curve, roc_auc_score\n",
    "from sklearn.pipeline import Pipeline\n",
    "from sklearn.feature_selection import SequentialFeatureSelector\n",
    "\n",
    "# Plotting packages\n",
    "import matplotlib.pyplot as plt\n",
    "import seaborn as sns\n",
    "%matplotlib inline"
   ]
  },
  {
   "cell_type": "code",
   "execution_count": 2,
   "metadata": {
    "id": "dIBHhqMZUx3R"
   },
   "outputs": [],
   "source": [
    "# Download the data\n",
    "# !gdown https://drive.google.com/uc?id=1yL84FMQrfHC_cQsa_V3KTcRAJS0k4DhY"
   ]
  },
  {
   "cell_type": "markdown",
   "metadata": {
    "id": "l8G0CQ-bXMMM"
   },
   "source": [
    "# Part 1: Data Preprocessing"
   ]
  },
  {
   "cell_type": "markdown",
   "metadata": {
    "id": "UMaaQ19-Xd1d"
   },
   "source": [
    "## Question 1.1: Load data\n",
    "\n",
    "(1) Read the **`earthquakes.parquet`** file as a **`polars.DataFrame`** and show its descriptive statistics.\n",
    "\n",
    "(2) Drop column **`id`** and **`time`** and display the first 5 rows of the dataframe.\n",
    "\n",
    "Since **`id`** is unique for each earthquake event that does not contain any predictive information and **`time`** is not directly informative for predicting earthquake severity unless you extract relevant features such as time of day, seasonality, etc."
   ]
  },
  {
   "cell_type": "code",
   "execution_count": 3,
   "metadata": {
    "id": "B6_VKNYOWLnI"
   },
   "outputs": [],
   "source": [
    "# (1) YOUR CODE HERE\n",
    "df = pl.read_parquet(\"earthquakes.parquet\")\n"
   ]
  },
  {
   "cell_type": "code",
   "execution_count": 4,
   "metadata": {
    "id": "6VQganpcnIEZ"
   },
   "outputs": [
    {
     "data": {
      "text/html": [
       "<div><style>\n",
       ".dataframe > thead > tr,\n",
       ".dataframe > tbody > tr {\n",
       "  text-align: right;\n",
       "  white-space: pre-wrap;\n",
       "}\n",
       "</style>\n",
       "<small>shape: (7_699, 12)</small><table border=\"1\" class=\"dataframe\"><thead><tr><th>latitude</th><th>longitude</th><th>depth</th><th>mag</th><th>gap</th><th>dmin</th><th>rms</th><th>horizontalError</th><th>depthError</th><th>magError</th><th>magNst</th><th>Alert</th></tr><tr><td>f64</td><td>f64</td><td>f64</td><td>f64</td><td>f64</td><td>f64</td><td>f64</td><td>f64</td><td>f64</td><td>f64</td><td>f64</td><td>str</td></tr></thead><tbody><tr><td>35.59</td><td>-90.48</td><td>15.0</td><td>4.62</td><td>null</td><td>null</td><td>null</td><td>null</td><td>null</td><td>null</td><td>0.0</td><td>&quot;Non-Severe&quot;</td></tr><tr><td>32.998667</td><td>-115.5575</td><td>14.19</td><td>5.8</td><td>79.0</td><td>0.05768</td><td>0.17</td><td>1.03</td><td>1.78</td><td>null</td><td>0.0</td><td>&quot;Severe&quot;</td></tr><tr><td>38.19</td><td>-83.95</td><td>10.0</td><td>5.0</td><td>null</td><td>null</td><td>null</td><td>null</td><td>null</td><td>null</td><td>null</td><td>&quot;Non-Severe&quot;</td></tr><tr><td>35.816</td><td>-117.816333</td><td>4.766</td><td>4.7</td><td>135.0</td><td>null</td><td>0.66</td><td>2.51</td><td>31.61</td><td>0.424</td><td>9.0</td><td>&quot;Non-Severe&quot;</td></tr><tr><td>33.0955</td><td>-115.6245</td><td>18.904</td><td>5.75</td><td>34.0</td><td>null</td><td>0.34</td><td>0.56</td><td>0.67</td><td>0.161</td><td>6.0</td><td>&quot;Non-Severe&quot;</td></tr><tr><td>&hellip;</td><td>&hellip;</td><td>&hellip;</td><td>&hellip;</td><td>&hellip;</td><td>&hellip;</td><td>&hellip;</td><td>&hellip;</td><td>&hellip;</td><td>&hellip;</td><td>&hellip;</td><td>&hellip;</td></tr><tr><td>-56.3574</td><td>147.017</td><td>10.0</td><td>5.7</td><td>109.0</td><td>13.462</td><td>0.62</td><td>12.18</td><td>1.916</td><td>0.056</td><td>31.0</td><td>&quot;Non-Severe&quot;</td></tr><tr><td>-11.7513</td><td>166.1708</td><td>25.375</td><td>5.4</td><td>114.0</td><td>6.535</td><td>0.86</td><td>10.36</td><td>5.288</td><td>0.062</td><td>25.0</td><td>&quot;Non-Severe&quot;</td></tr><tr><td>-17.7098</td><td>168.0292</td><td>46.0</td><td>6.1</td><td>32.0</td><td>4.528</td><td>0.55</td><td>8.73</td><td>1.944</td><td>0.038</td><td>66.0</td><td>&quot;Non-Severe&quot;</td></tr><tr><td>55.9825</td><td>-153.9973</td><td>9.2</td><td>5.6</td><td>null</td><td>null</td><td>0.49</td><td>null</td><td>1.5</td><td>null</td><td>null</td><td>&quot;Non-Severe&quot;</td></tr><tr><td>19.9162</td><td>-76.5153</td><td>22.241</td><td>5.9</td><td>50.0</td><td>0.112</td><td>0.81</td><td>2.78</td><td>6.255</td><td>0.03</td><td>107.0</td><td>&quot;Non-Severe&quot;</td></tr></tbody></table></div>"
      ],
      "text/plain": [
       "shape: (7_699, 12)\n",
       "┌───────────┬─────────────┬────────┬──────┬───┬────────────┬──────────┬────────┬────────────┐\n",
       "│ latitude  ┆ longitude   ┆ depth  ┆ mag  ┆ … ┆ depthError ┆ magError ┆ magNst ┆ Alert      │\n",
       "│ ---       ┆ ---         ┆ ---    ┆ ---  ┆   ┆ ---        ┆ ---      ┆ ---    ┆ ---        │\n",
       "│ f64       ┆ f64         ┆ f64    ┆ f64  ┆   ┆ f64        ┆ f64      ┆ f64    ┆ str        │\n",
       "╞═══════════╪═════════════╪════════╪══════╪═══╪════════════╪══════════╪════════╪════════════╡\n",
       "│ 35.59     ┆ -90.48      ┆ 15.0   ┆ 4.62 ┆ … ┆ null       ┆ null     ┆ 0.0    ┆ Non-Severe │\n",
       "│ 32.998667 ┆ -115.5575   ┆ 14.19  ┆ 5.8  ┆ … ┆ 1.78       ┆ null     ┆ 0.0    ┆ Severe     │\n",
       "│ 38.19     ┆ -83.95      ┆ 10.0   ┆ 5.0  ┆ … ┆ null       ┆ null     ┆ null   ┆ Non-Severe │\n",
       "│ 35.816    ┆ -117.816333 ┆ 4.766  ┆ 4.7  ┆ … ┆ 31.61      ┆ 0.424    ┆ 9.0    ┆ Non-Severe │\n",
       "│ 33.0955   ┆ -115.6245   ┆ 18.904 ┆ 5.75 ┆ … ┆ 0.67       ┆ 0.161    ┆ 6.0    ┆ Non-Severe │\n",
       "│ …         ┆ …           ┆ …      ┆ …    ┆ … ┆ …          ┆ …        ┆ …      ┆ …          │\n",
       "│ -56.3574  ┆ 147.017     ┆ 10.0   ┆ 5.7  ┆ … ┆ 1.916      ┆ 0.056    ┆ 31.0   ┆ Non-Severe │\n",
       "│ -11.7513  ┆ 166.1708    ┆ 25.375 ┆ 5.4  ┆ … ┆ 5.288      ┆ 0.062    ┆ 25.0   ┆ Non-Severe │\n",
       "│ -17.7098  ┆ 168.0292    ┆ 46.0   ┆ 6.1  ┆ … ┆ 1.944      ┆ 0.038    ┆ 66.0   ┆ Non-Severe │\n",
       "│ 55.9825   ┆ -153.9973   ┆ 9.2    ┆ 5.6  ┆ … ┆ 1.5        ┆ null     ┆ null   ┆ Non-Severe │\n",
       "│ 19.9162   ┆ -76.5153    ┆ 22.241 ┆ 5.9  ┆ … ┆ 6.255      ┆ 0.03     ┆ 107.0  ┆ Non-Severe │\n",
       "└───────────┴─────────────┴────────┴──────┴───┴────────────┴──────────┴────────┴────────────┘"
      ]
     },
     "metadata": {},
     "output_type": "display_data"
    }
   ],
   "source": [
    "# (2) YOUR CODE HERE\n",
    "\n",
    "df = df.drop([\"id\", \"time\"])\n",
    "display(df)"
   ]
  },
  {
   "cell_type": "markdown",
   "metadata": {
    "id": "Yv9TQIWqoWpY"
   },
   "source": [
    "## Question 1.2: Handle null values\n",
    "\n",
    "The result of the `null_count` function indicates that some columns contain null values. Fill these null values with the median of the corresponding column and display the first 5 rows of the resulting dataframe."
   ]
  },
  {
   "cell_type": "code",
   "execution_count": 5,
   "metadata": {
    "id": "5SkBkhO7ouYE"
   },
   "outputs": [
    {
     "data": {
      "text/html": [
       "<div><style>\n",
       ".dataframe > thead > tr,\n",
       ".dataframe > tbody > tr {\n",
       "  text-align: right;\n",
       "  white-space: pre-wrap;\n",
       "}\n",
       "</style>\n",
       "<small>shape: (1, 12)</small><table border=\"1\" class=\"dataframe\"><thead><tr><th>latitude</th><th>longitude</th><th>depth</th><th>mag</th><th>gap</th><th>dmin</th><th>rms</th><th>horizontalError</th><th>depthError</th><th>magError</th><th>magNst</th><th>Alert</th></tr><tr><td>u32</td><td>u32</td><td>u32</td><td>u32</td><td>u32</td><td>u32</td><td>u32</td><td>u32</td><td>u32</td><td>u32</td><td>u32</td><td>u32</td></tr></thead><tbody><tr><td>0</td><td>0</td><td>0</td><td>0</td><td>324</td><td>702</td><td>26</td><td>1218</td><td>209</td><td>2214</td><td>2067</td><td>0</td></tr></tbody></table></div>"
      ],
      "text/plain": [
       "shape: (1, 12)\n",
       "┌──────────┬───────────┬───────┬─────┬───┬────────────┬──────────┬────────┬───────┐\n",
       "│ latitude ┆ longitude ┆ depth ┆ mag ┆ … ┆ depthError ┆ magError ┆ magNst ┆ Alert │\n",
       "│ ---      ┆ ---       ┆ ---   ┆ --- ┆   ┆ ---        ┆ ---      ┆ ---    ┆ ---   │\n",
       "│ u32      ┆ u32       ┆ u32   ┆ u32 ┆   ┆ u32        ┆ u32      ┆ u32    ┆ u32   │\n",
       "╞══════════╪═══════════╪═══════╪═════╪═══╪════════════╪══════════╪════════╪═══════╡\n",
       "│ 0        ┆ 0         ┆ 0     ┆ 0   ┆ … ┆ 209        ┆ 2214     ┆ 2067   ┆ 0     │\n",
       "└──────────┴───────────┴───────┴─────┴───┴────────────┴──────────┴────────┴───────┘"
      ]
     },
     "execution_count": 5,
     "metadata": {},
     "output_type": "execute_result"
    }
   ],
   "source": [
    "df.null_count() # uncomment and run this code"
   ]
  },
  {
   "cell_type": "code",
   "execution_count": 6,
   "metadata": {
    "id": "YvX9BKCnovfk"
   },
   "outputs": [
    {
     "data": {
      "text/html": [
       "<div><style>\n",
       ".dataframe > thead > tr,\n",
       ".dataframe > tbody > tr {\n",
       "  text-align: right;\n",
       "  white-space: pre-wrap;\n",
       "}\n",
       "</style>\n",
       "<small>shape: (5, 12)</small><table border=\"1\" class=\"dataframe\"><thead><tr><th>latitude</th><th>longitude</th><th>depth</th><th>mag</th><th>gap</th><th>dmin</th><th>rms</th><th>horizontalError</th><th>depthError</th><th>magError</th><th>magNst</th><th>Alert</th></tr><tr><td>f64</td><td>f64</td><td>f64</td><td>f64</td><td>f64</td><td>f64</td><td>f64</td><td>f64</td><td>f64</td><td>f64</td><td>f64</td><td>str</td></tr></thead><tbody><tr><td>35.59</td><td>-90.48</td><td>15.0</td><td>4.62</td><td>38.0</td><td>2.407</td><td>0.82</td><td>7.1</td><td>1.8</td><td>0.059</td><td>0.0</td><td>&quot;Non-Severe&quot;</td></tr><tr><td>32.998667</td><td>-115.5575</td><td>14.19</td><td>5.8</td><td>79.0</td><td>0.05768</td><td>0.17</td><td>1.03</td><td>1.78</td><td>0.059</td><td>0.0</td><td>&quot;Severe&quot;</td></tr><tr><td>38.19</td><td>-83.95</td><td>10.0</td><td>5.0</td><td>38.0</td><td>2.407</td><td>0.82</td><td>7.1</td><td>1.8</td><td>0.059</td><td>29.0</td><td>&quot;Non-Severe&quot;</td></tr><tr><td>35.816</td><td>-117.816333</td><td>4.766</td><td>4.7</td><td>135.0</td><td>2.407</td><td>0.66</td><td>2.51</td><td>31.61</td><td>0.424</td><td>9.0</td><td>&quot;Non-Severe&quot;</td></tr><tr><td>33.0955</td><td>-115.6245</td><td>18.904</td><td>5.75</td><td>34.0</td><td>2.407</td><td>0.34</td><td>0.56</td><td>0.67</td><td>0.161</td><td>6.0</td><td>&quot;Non-Severe&quot;</td></tr></tbody></table></div>"
      ],
      "text/plain": [
       "shape: (5, 12)\n",
       "┌───────────┬─────────────┬────────┬──────┬───┬────────────┬──────────┬────────┬────────────┐\n",
       "│ latitude  ┆ longitude   ┆ depth  ┆ mag  ┆ … ┆ depthError ┆ magError ┆ magNst ┆ Alert      │\n",
       "│ ---       ┆ ---         ┆ ---    ┆ ---  ┆   ┆ ---        ┆ ---      ┆ ---    ┆ ---        │\n",
       "│ f64       ┆ f64         ┆ f64    ┆ f64  ┆   ┆ f64        ┆ f64      ┆ f64    ┆ str        │\n",
       "╞═══════════╪═════════════╪════════╪══════╪═══╪════════════╪══════════╪════════╪════════════╡\n",
       "│ 35.59     ┆ -90.48      ┆ 15.0   ┆ 4.62 ┆ … ┆ 1.8        ┆ 0.059    ┆ 0.0    ┆ Non-Severe │\n",
       "│ 32.998667 ┆ -115.5575   ┆ 14.19  ┆ 5.8  ┆ … ┆ 1.78       ┆ 0.059    ┆ 0.0    ┆ Severe     │\n",
       "│ 38.19     ┆ -83.95      ┆ 10.0   ┆ 5.0  ┆ … ┆ 1.8        ┆ 0.059    ┆ 29.0   ┆ Non-Severe │\n",
       "│ 35.816    ┆ -117.816333 ┆ 4.766  ┆ 4.7  ┆ … ┆ 31.61      ┆ 0.424    ┆ 9.0    ┆ Non-Severe │\n",
       "│ 33.0955   ┆ -115.6245   ┆ 18.904 ┆ 5.75 ┆ … ┆ 0.67       ┆ 0.161    ┆ 6.0    ┆ Non-Severe │\n",
       "└───────────┴─────────────┴────────┴──────┴───┴────────────┴──────────┴────────┴────────────┘"
      ]
     },
     "execution_count": 6,
     "metadata": {},
     "output_type": "execute_result"
    }
   ],
   "source": [
    "numeric_types = (pl.Int32, pl.Int64, pl.Float32, pl.Float64)\n",
    "\n",
    "for c in df.columns:\n",
    "    if df.schema[c] not in numeric_types:\n",
    "        continue\n",
    "\n",
    "    median_value = df.select(pl.col(c).median()).to_series()[0]\n",
    "    df = df.with_columns(pl.col(c).fill_null(median_value))\n",
    "\n",
    "df.head()"
   ]
  },
  {
   "cell_type": "markdown",
   "metadata": {
    "id": "61faU0aZzRqk"
   },
   "source": [
    "## Question 1.3: Explore target distribution\n",
    "\n",
    "Count the number of instances of each severity level of the earthquake in the dataset.\n",
    "\n",
    "Comment on your findings, providing insights into the distribution of different severity levels."
   ]
  },
  {
   "cell_type": "code",
   "execution_count": null,
   "metadata": {
    "id": "8T3pp1W0zRDt"
   },
   "outputs": [
    {
     "data": {
      "image/png": "[encoded data removed]",
      "text/plain": [
       "<Figure size 640x480 with 1 Axes>"
      ]
     },
     "metadata": {},
     "output_type": "display_data"
    }
   ],
   "source": [
    "# YOUR CODE HERE\n",
    "histogram = df[\"Alert\"].val"
   ]
  },
  {
   "cell_type": "markdown",
   "metadata": {
    "id": "ZtiF3a-qzpPy"
   },
   "source": [
    "(Your written answer here)\n"
   ]
  },
  {
   "cell_type": "markdown",
   "metadata": {
    "id": "766tNRJzbBFA"
   },
   "source": [
    "## Question 1.4: Convert target variable\n",
    "\n",
    "Convert **`Alert`** to a binary numerical target:\n",
    "- Replace **`Severe`** with 1.\n",
    "- Replace **`Non-Severe`** with 0.\n",
    "\n",
    "Display the first 5 rows of the resulting dataframe.\n",
    "\n",
    "Hint: If you use the `replace` method, the resulting column will still be of string type. Use `cast` to make it `Float64` after replacement."
   ]
  },
  {
   "cell_type": "code",
   "execution_count": 8,
   "metadata": {
    "id": "qjO3iAxvaTpT"
   },
   "outputs": [],
   "source": [
    "# YOUR CODE HERE\n"
   ]
  },
  {
   "cell_type": "markdown",
   "metadata": {
    "id": "mxDVkMQ-hEem"
   },
   "source": [
    "## Question 1.5: Train test split\n",
    "\n",
    "Split the dataset into training and testing sets:\n",
    "- With **30% testing data** and **70% training data**.\n",
    "- Set the **random state** to **2025**.\n",
    "- Use **stratified splitting** to **maintain the same proportion of each class** in the target variable (**`Alert`**) in both the training and testing sets.\n",
    "\n",
    "Display the descriptive statistics for X_train and X_test."
   ]
  },
  {
   "cell_type": "code",
   "execution_count": 9,
   "metadata": {
    "id": "DG9n0DVHwJp0"
   },
   "outputs": [],
   "source": [
    "# YOUR CODE HERE\n"
   ]
  },
  {
   "cell_type": "markdown",
   "metadata": {
    "id": "DkcOJ8fErgu8"
   },
   "source": [
    "# Part 2: Sequential Feature Selection"
   ]
  },
  {
   "cell_type": "markdown",
   "metadata": {
    "id": "6MKT3NRarkz5"
   },
   "source": [
    "## Question 2.1: Forward Selection\n",
    "\n",
    "Create a pipeline using [`SequentialFeatureSelector`](https://scikit-learn.org/stable/modules/generated/sklearn.feature_selection.SequentialFeatureSelector.html) to perform **forward** feature selection:\n",
    "- Standardize the data, ensuring each feature has a mean of 0 and a standard deviation of 1.\n",
    "- Use **ROC AUC** as the scoring metric for feature selection. Conduct **5-fold cross-validation** to evaluate the model. Set the **tolerance for stopping** the selection process to **0.001**.\n",
    "- Configure the logistic regression to use the default **`lbfgs`** as solver with **no penalty**. Set the **maximum number of iterations** to **1000**. Use a **balanced** weight that adjust weights inversely proportional to class frequencies in the input data. Set the **random state** to **2025**.\n",
    "\n",
    "Fit the pipeline and report the subset of variables on this method.\n"
   ]
  },
  {
   "cell_type": "code",
   "execution_count": 10,
   "metadata": {
    "id": "I0gfWRgo1P14"
   },
   "outputs": [],
   "source": [
    "# YOUR CODE HERE\n"
   ]
  },
  {
   "cell_type": "markdown",
   "metadata": {
    "id": "ACAsAnUdLB_o"
   },
   "source": [
    "## Question 2.2: Backward Selection\n",
    "\n",
    "Create a pipeline using [`SequentialFeatureSelector`](https://scikit-learn.org/stable/modules/generated/sklearn.feature_selection.SequentialFeatureSelector.html) to perform **backward** feature selection. Keep all other configurations the same as in the previous question\n",
    "\n",
    "Fit the pipeline and report the subset of variables on this method.\n"
   ]
  },
  {
   "cell_type": "code",
   "execution_count": 11,
   "metadata": {
    "id": "fnrafwMxK08Z"
   },
   "outputs": [],
   "source": [
    "# YOUR CODE HERE\n"
   ]
  },
  {
   "cell_type": "markdown",
   "metadata": {
    "id": "8cSXKQpXMlwm"
   },
   "source": [
    "## Question 2.3: Compare results & find the best model\n",
    "\n",
    "Compare and discuss the selected subset of variables obtained from both methods used in the previous steps.\n",
    "\n",
    "Perform an **exhaustive search** over all possible subsets of the remaining variables using **5-fold cross-validation** to find the best model. Use the same Logistic Regression configurations as in previous questions.\n",
    "\n",
    "Hint: If you have correctly followed the previous steps, you should have **five remaining variables** to evaluate in the exhaustive search."
   ]
  },
  {
   "cell_type": "markdown",
   "metadata": {
    "id": "fEAnA4JUOgw_"
   },
   "source": [
    "(Your written answer here)\n",
    "\n",
    "Among all 11 variables, forward selection resulted in 5 features, while backward selection selected 10 features. This indicates that backward selection retains more variables, perhaps due to its nature of removing less impactful features instead of building up the model iteratively. Both selection results agree on keeping `['latitude', 'depth', 'mag', 'dmin', 'horizontalError']`. We should then conduct an exhaustive search using the remaining five variables `['longitude', 'gap', 'depthError', 'magError', 'magNst']`."
   ]
  },
  {
   "cell_type": "code",
   "execution_count": 12,
   "metadata": {
    "id": "Qjjk41LbMlo5"
   },
   "outputs": [],
   "source": [
    "# YOUR CODE HERE\n"
   ]
  },
  {
   "cell_type": "markdown",
   "metadata": {
    "id": "Qe7q3KFzSCOp"
   },
   "source": [
    "## Question 2.4: Fit the best model\n",
    "\n",
    "Train a logistic regression model with the best variables selected.\n",
    "\n",
    "Display the model's coefficients and intercept."
   ]
  },
  {
   "cell_type": "code",
   "execution_count": 13,
   "metadata": {
    "id": "YdCYh9e3MlPu"
   },
   "outputs": [],
   "source": [
    "# YOUR CODE HERE\n"
   ]
  },
  {
   "cell_type": "markdown",
   "metadata": {
    "id": "NkqKda5RV0hZ"
   },
   "source": [
    "## Question 2.5: Measure model's performance\n",
    "\n",
    "Construct a **95% confidence interval** for both accuracy and AUC using **100 bootstrap resamples** of the test set."
   ]
  },
  {
   "cell_type": "code",
   "execution_count": 14,
   "metadata": {
    "id": "u7JoX1dnMFUR"
   },
   "outputs": [],
   "source": [
    "np.random.seed(2025) # DO NOT DELETE\n",
    "\n",
    "# YOUR CODE HERE\n"
   ]
  },
  {
   "cell_type": "markdown",
   "metadata": {
    "id": "DMFb9isT5HG7"
   },
   "source": [
    "# Part 3: Regularization"
   ]
  },
  {
   "cell_type": "markdown",
   "metadata": {
    "id": "UN8KyRvX6D_y"
   },
   "source": [
    "## Question 3.1: Ridge penalization\n",
    "\n",
    "Create a pipeline using [`LogisticRegressionCV`](https://scikit-learn.org/stable/modules/generated/sklearn.linear_model.LogisticRegressionCV.html) to implement a logistic regression with **Ridge penalization**:\n",
    "- Standardize the data, ensuring each feature has a mean of 0 and a standard deviation of 1.\n",
    "- Configure the **`LogisticRegressionCV`** to use **`saga`** as solver. Use the default **`Cs = 10`**. Set the **maximum number of iterations** to **1000**. Use a **balanced** weight that adjust weights inversely proportional to class frequencies in the input data. Set the **random state** to **2025**. Use **5-fold cross-validation**.\n",
    "\n",
    "Fit the pipeline to get the best model.\n",
    "\n",
    "Construct a **95% confidence interval** for both accuracy and AUC using **100 bootstrap resamples** of the test set."
   ]
  },
  {
   "cell_type": "code",
   "execution_count": 15,
   "metadata": {
    "id": "QZh1TMq942kd"
   },
   "outputs": [],
   "source": [
    "np.random.seed(2025) # DO NOT DELETE\n",
    "\n",
    "# YOUR CODE HERE\n"
   ]
  },
  {
   "cell_type": "markdown",
   "metadata": {
    "id": "LWwwyAFxEs3O"
   },
   "source": [
    "## Question 3.2: Lasso penalization\n",
    "\n",
    "Create a pipeline using [`LogisticRegressionCV`](https://scikit-learn.org/stable/modules/generated/sklearn.linear_model.LogisticRegressionCV.html) to implement a logistic regression with **Lasso penalization**:\n",
    "- Standardize the data, ensuring each feature has a mean of 0 and a standard deviation of 1.\n",
    "- Configure the **`LogisticRegressionCV`** to use **`saga`** as solver. Use the default **`Cs = 10`**. Set the **maximum number of iterations** to **1000**. Use a **balanced** weight that adjust weights inversely proportional to class frequencies in the input data. Set the **random state** to **2025**. Use **5-fold cross-validation**.\n",
    "\n",
    "Fit the pipeline to get the best model.\n",
    "\n",
    "Construct a **95% confidence interval** for both accuracy and AUC using **100 bootstrap resamples** of the test set."
   ]
  },
  {
   "cell_type": "code",
   "execution_count": 16,
   "metadata": {
    "id": "EOFq1EqUDR5F"
   },
   "outputs": [],
   "source": [
    "np.random.seed(2025) # DO NOT DELETE\n",
    "\n",
    "# YOUR CODE HERE\n"
   ]
  },
  {
   "cell_type": "markdown",
   "metadata": {
    "id": "yB9OrR_SFmUq"
   },
   "source": [
    "## Question 3.3: Ridge vs Lasso\n",
    "\n",
    "Report the coefficients from the best-performing models with Ridge and Lasso penalties.\n",
    "\n",
    "Compare and discuss how the coefficient magnitudes differ between Ridge and Lasso, and explain."
   ]
  },
  {
   "cell_type": "code",
   "execution_count": 17,
   "metadata": {
    "id": "90aHPsKTE6vc"
   },
   "outputs": [],
   "source": [
    "# YOUR CODE HERE\n"
   ]
  },
  {
   "cell_type": "markdown",
   "metadata": {
    "id": "3fgLpuw3ItWi"
   },
   "source": [
    "(Your written answer here)\n"
   ]
  },
  {
   "cell_type": "markdown",
   "metadata": {
    "id": "DoMw6CaUMx-B"
   },
   "source": [
    "# Part 4: Overall Comparison\n",
    "\n",
    "Compare the best models obtained using **Sequential Feature Selection**, **Ridge Regularization**, and **Lasso Regularization** by plotting the ROC curve for each model on a single plot. Additionally, include a diagonal reference line representing random classification performance (i.e., an ROC curve with an AUC of 0.5).\n",
    "\n",
    "Provide a brief analysis and comment on your findings (no need to identify the best model)."
   ]
  },
  {
   "cell_type": "code",
   "execution_count": 18,
   "metadata": {
    "id": "VI4pxr-mHj8G"
   },
   "outputs": [],
   "source": [
    "# YOUR CODE HERE\n"
   ]
  },
  {
   "cell_type": "markdown",
   "metadata": {
    "id": "rxg6xDcWPzyc"
   },
   "source": [
    "(Your written answer here)\n"
   ]
  }
 ],
 "metadata": {
  "colab": {
   "provenance": []
  },
  "kernelspec": {
   "display_name": "base",
   "language": "python",
   "name": "python3"
  },
  "language_info": {
   "codemirror_mode": {
    "name": "ipython",
    "version": 3
   },
   "file_extension": ".py",
   "mimetype": "text/x-python",
   "name": "python",
   "nbconvert_exporter": "python",
   "pygments_lexer": "ipython3",
   "version": "3.10.9"
  }
 },
 "nbformat": 4,
 "nbformat_minor": 0
}
