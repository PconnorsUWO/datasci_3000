{
  "cells": [
    {
      "cell_type": "markdown",
      "id": "7_BO2jYnC1ge",
      "metadata": {
        "id": "7_BO2jYnC1ge"
      },
      "source": [
        "# Assignment 3: Classification with Logistic Regression\n",
        "\n",
        "## Instructions\n",
        "\n",
        "* Complete the assignment as outlined below.\n",
        "* Restart your kernel and rerun your cells before submission.\n",
        "* Submit your completed notebook (.ipynb)."
      ]
    },
    {
      "cell_type": "markdown",
      "id": "mmkN-Z_BC1gg",
      "metadata": {
        "id": "mmkN-Z_BC1gg"
      },
      "source": [
        "## Dataset Information\n",
        "\n",
        "The dataset contains health-related data for predicting diabetes. Below are the features:\n",
        "\n",
        "* `Pregnancies`: Number of pregnancies\n",
        "* `Glucose`: Plasma glucose concentration\n",
        "* `BloodPressure`: Diastolic blood pressure (mm Hg)\n",
        "* `SkinThickness`: Triceps skin fold thickness (mm)\n",
        "* `Insulin`: 2-hour serum insulin (mu U/ml)\n",
        "* `BMI`: Body mass index\n",
        "* `DiabetesPedigreeFunction`: Diabetes pedigree function\n",
        "* `Age`: Age (years)\n",
        "* `Outcome`: Target variable (1 = Diabetes, 0 = No Diabetes)\n",
        "\n",
        "Your goal in this homework is to train a first model for predicting the probability that a patient has diabetes given their healthcare data."
      ]
    },
    {
      "cell_type": "code",
      "execution_count": 74,
      "id": "Up1wd2v7DhYj",
      "metadata": {
        "id": "Up1wd2v7DhYj"
      },
      "outputs": [],
      "source": [
        "# Suggested packages, you can add more if you think they are necessary.\n",
        "import pandas as pd\n",
        "import numpy as np\n",
        "from IPython.display import display, Markdown\n",
        "from sklearn.model_selection import train_test_split\n",
        "from sklearn.preprocessing import StandardScaler\n",
        "from sklearn.pipeline import Pipeline\n",
        "from sklearn.linear_model import LogisticRegression\n",
        "from sklearn.metrics import accuracy_score\n",
        "from sklearn.metrics import roc_curve, roc_auc_score\n",
        "from sklearn.pipeline import Pipeline\n",
        "\n",
        "# Plotting packages\n",
        "import matplotlib.pyplot as plt\n",
        "import seaborn as sns\n",
        "%matplotlib inline"
      ]
    },
    {
      "cell_type": "code",
      "execution_count": 75,
      "id": "X3iFlWRnDoDG",
      "metadata": {
        "id": "X3iFlWRnDoDG"
      },
      "outputs": [],
      "source": [
        "# Download the data. Uncomment if using Colab.\n",
        "# !gdown https://drive.google.com/uc?id=1-_YcEl0q5LsDXRq5eix9K4gjSq78Ffd5"
      ]
    },
    {
      "cell_type": "markdown",
      "id": "yafwp1DBC1gg",
      "metadata": {
        "id": "yafwp1DBC1gg"
      },
      "source": [
        "## Question 1:\n",
        "\n",
        "1. Load the dataset `diabetes.csv` and display the first 5 rows.\n",
        "2. Print out all columns in the dataset and identify any missing values.\n",
        "3. Show the descriptive statistics of the data."
      ]
    },
    {
      "cell_type": "code",
      "execution_count": 76,
      "id": "byg7RoRhC1gh",
      "metadata": {
        "id": "byg7RoRhC1gh"
      },
      "outputs": [
        {
          "data": {
            "text/html": [
              "<div>\n",
              "<style scoped>\n",
              "    .dataframe tbody tr th:only-of-type {\n",
              "        vertical-align: middle;\n",
              "    }\n",
              "\n",
              "    .dataframe tbody tr th {\n",
              "        vertical-align: top;\n",
              "    }\n",
              "\n",
              "    .dataframe thead th {\n",
              "        text-align: right;\n",
              "    }\n",
              "</style>\n",
              "<table border=\"1\" class=\"dataframe\">\n",
              "  <thead>\n",
              "    <tr style=\"text-align: right;\">\n",
              "      <th></th>\n",
              "      <th>Pregnancies</th>\n",
              "      <th>Glucose</th>\n",
              "      <th>BloodPressure</th>\n",
              "      <th>SkinThickness</th>\n",
              "      <th>Insulin</th>\n",
              "      <th>BMI</th>\n",
              "      <th>DiabetesPedigreeFunction</th>\n",
              "      <th>Age</th>\n",
              "      <th>Outcome</th>\n",
              "    </tr>\n",
              "  </thead>\n",
              "  <tbody>\n",
              "    <tr>\n",
              "      <th>0</th>\n",
              "      <td>6</td>\n",
              "      <td>148</td>\n",
              "      <td>72</td>\n",
              "      <td>35</td>\n",
              "      <td>0</td>\n",
              "      <td>33.6</td>\n",
              "      <td>0.627</td>\n",
              "      <td>50</td>\n",
              "      <td>1</td>\n",
              "    </tr>\n",
              "    <tr>\n",
              "      <th>1</th>\n",
              "      <td>1</td>\n",
              "      <td>85</td>\n",
              "      <td>66</td>\n",
              "      <td>29</td>\n",
              "      <td>0</td>\n",
              "      <td>26.6</td>\n",
              "      <td>0.351</td>\n",
              "      <td>31</td>\n",
              "      <td>0</td>\n",
              "    </tr>\n",
              "    <tr>\n",
              "      <th>2</th>\n",
              "      <td>8</td>\n",
              "      <td>183</td>\n",
              "      <td>64</td>\n",
              "      <td>0</td>\n",
              "      <td>0</td>\n",
              "      <td>23.3</td>\n",
              "      <td>0.672</td>\n",
              "      <td>32</td>\n",
              "      <td>1</td>\n",
              "    </tr>\n",
              "    <tr>\n",
              "      <th>3</th>\n",
              "      <td>1</td>\n",
              "      <td>89</td>\n",
              "      <td>66</td>\n",
              "      <td>23</td>\n",
              "      <td>94</td>\n",
              "      <td>28.1</td>\n",
              "      <td>0.167</td>\n",
              "      <td>21</td>\n",
              "      <td>0</td>\n",
              "    </tr>\n",
              "    <tr>\n",
              "      <th>4</th>\n",
              "      <td>0</td>\n",
              "      <td>137</td>\n",
              "      <td>40</td>\n",
              "      <td>35</td>\n",
              "      <td>168</td>\n",
              "      <td>43.1</td>\n",
              "      <td>2.288</td>\n",
              "      <td>33</td>\n",
              "      <td>1</td>\n",
              "    </tr>\n",
              "  </tbody>\n",
              "</table>\n",
              "</div>"
            ],
            "text/plain": [
              "   Pregnancies  Glucose  BloodPressure  SkinThickness  Insulin   BMI  \\\n",
              "0            6      148             72             35        0  33.6   \n",
              "1            1       85             66             29        0  26.6   \n",
              "2            8      183             64              0        0  23.3   \n",
              "3            1       89             66             23       94  28.1   \n",
              "4            0      137             40             35      168  43.1   \n",
              "\n",
              "   DiabetesPedigreeFunction  Age  Outcome  \n",
              "0                     0.627   50        1  \n",
              "1                     0.351   31        0  \n",
              "2                     0.672   32        1  \n",
              "3                     0.167   21        0  \n",
              "4                     2.288   33        1  "
            ]
          },
          "execution_count": 76,
          "metadata": {},
          "output_type": "execute_result"
        }
      ],
      "source": [
        "# Load the dataset\n",
        "df = pd.read_csv('diabetes.csv')\n",
        "df.head()"
      ]
    },
    {
      "cell_type": "code",
      "execution_count": 77,
      "id": "OUCLqNW9C1gh",
      "metadata": {
        "id": "OUCLqNW9C1gh"
      },
      "outputs": [
        {
          "name": "stdout",
          "output_type": "stream",
          "text": [
            "Total number of null values across all specified columns: 652\n"
          ]
        }
      ],
      "source": [
        "exclude_columns = ['Outcome', 'Pregnancies']\n",
        "columns_to_check_explicit = ['Glucose', 'BloodPressure', 'SkinThickness', 'Insulin', 'BMI', 'DiabetesPedigreeFunction', 'Age']\n",
        "columns_to_check_exclude = df.drop(exclude_columns, axis=1).columns\n",
        "columns_to_check = columns_to_check_exclude \n",
        "zero_counts = (df[columns_to_check] == 0).sum()\n",
        "total_zero = zero_counts.sum()\n",
        "print(f\"Total number of null values across all specified columns: {total_zero}\")\n",
        "\n",
        "# Fill null values with mean or median based on distribution\n",
        "columns_median = ['Glucose', 'BloodPressure', 'Insulin']\n",
        "for column in columns_median:\n",
        "    df[column] = df[column].replace(0, df[column].median())\n",
        "\n",
        "columns_mean = ['SkinThickness', 'BMI']\n",
        "for column in columns_mean:\n",
        "    df[column] = df[column].replace(0, df[column].mean())\n",
        "\n"
      ]
    },
    {
      "cell_type": "code",
      "execution_count": 78,
      "id": "TZDyr2WQC1gi",
      "metadata": {
        "id": "TZDyr2WQC1gi"
      },
      "outputs": [
        {
          "data": {
            "text/html": [
              "<div>\n",
              "<style scoped>\n",
              "    .dataframe tbody tr th:only-of-type {\n",
              "        vertical-align: middle;\n",
              "    }\n",
              "\n",
              "    .dataframe tbody tr th {\n",
              "        vertical-align: top;\n",
              "    }\n",
              "\n",
              "    .dataframe thead th {\n",
              "        text-align: right;\n",
              "    }\n",
              "</style>\n",
              "<table border=\"1\" class=\"dataframe\">\n",
              "  <thead>\n",
              "    <tr style=\"text-align: right;\">\n",
              "      <th></th>\n",
              "      <th>Pregnancies</th>\n",
              "      <th>Glucose</th>\n",
              "      <th>BloodPressure</th>\n",
              "      <th>SkinThickness</th>\n",
              "      <th>Insulin</th>\n",
              "      <th>BMI</th>\n",
              "      <th>DiabetesPedigreeFunction</th>\n",
              "      <th>Age</th>\n",
              "      <th>Outcome</th>\n",
              "    </tr>\n",
              "  </thead>\n",
              "  <tbody>\n",
              "    <tr>\n",
              "      <th>count</th>\n",
              "      <td>768.000000</td>\n",
              "      <td>768.000000</td>\n",
              "      <td>768.000000</td>\n",
              "      <td>768.000000</td>\n",
              "      <td>768.000000</td>\n",
              "      <td>768.000000</td>\n",
              "      <td>768.000000</td>\n",
              "      <td>768.000000</td>\n",
              "      <td>768.000000</td>\n",
              "    </tr>\n",
              "    <tr>\n",
              "      <th>mean</th>\n",
              "      <td>3.845052</td>\n",
              "      <td>121.656250</td>\n",
              "      <td>72.386719</td>\n",
              "      <td>26.606479</td>\n",
              "      <td>94.652344</td>\n",
              "      <td>32.450805</td>\n",
              "      <td>0.471876</td>\n",
              "      <td>33.240885</td>\n",
              "      <td>0.348958</td>\n",
              "    </tr>\n",
              "    <tr>\n",
              "      <th>std</th>\n",
              "      <td>3.369578</td>\n",
              "      <td>30.438286</td>\n",
              "      <td>12.096642</td>\n",
              "      <td>9.631241</td>\n",
              "      <td>105.547598</td>\n",
              "      <td>6.875374</td>\n",
              "      <td>0.331329</td>\n",
              "      <td>11.760232</td>\n",
              "      <td>0.476951</td>\n",
              "    </tr>\n",
              "    <tr>\n",
              "      <th>min</th>\n",
              "      <td>0.000000</td>\n",
              "      <td>44.000000</td>\n",
              "      <td>24.000000</td>\n",
              "      <td>7.000000</td>\n",
              "      <td>14.000000</td>\n",
              "      <td>18.200000</td>\n",
              "      <td>0.078000</td>\n",
              "      <td>21.000000</td>\n",
              "      <td>0.000000</td>\n",
              "    </tr>\n",
              "    <tr>\n",
              "      <th>25%</th>\n",
              "      <td>1.000000</td>\n",
              "      <td>99.750000</td>\n",
              "      <td>64.000000</td>\n",
              "      <td>20.536458</td>\n",
              "      <td>30.500000</td>\n",
              "      <td>27.500000</td>\n",
              "      <td>0.243750</td>\n",
              "      <td>24.000000</td>\n",
              "      <td>0.000000</td>\n",
              "    </tr>\n",
              "    <tr>\n",
              "      <th>50%</th>\n",
              "      <td>3.000000</td>\n",
              "      <td>117.000000</td>\n",
              "      <td>72.000000</td>\n",
              "      <td>23.000000</td>\n",
              "      <td>31.250000</td>\n",
              "      <td>32.000000</td>\n",
              "      <td>0.372500</td>\n",
              "      <td>29.000000</td>\n",
              "      <td>0.000000</td>\n",
              "    </tr>\n",
              "    <tr>\n",
              "      <th>75%</th>\n",
              "      <td>6.000000</td>\n",
              "      <td>140.250000</td>\n",
              "      <td>80.000000</td>\n",
              "      <td>32.000000</td>\n",
              "      <td>127.250000</td>\n",
              "      <td>36.600000</td>\n",
              "      <td>0.626250</td>\n",
              "      <td>41.000000</td>\n",
              "      <td>1.000000</td>\n",
              "    </tr>\n",
              "    <tr>\n",
              "      <th>max</th>\n",
              "      <td>17.000000</td>\n",
              "      <td>199.000000</td>\n",
              "      <td>122.000000</td>\n",
              "      <td>99.000000</td>\n",
              "      <td>846.000000</td>\n",
              "      <td>67.100000</td>\n",
              "      <td>2.420000</td>\n",
              "      <td>81.000000</td>\n",
              "      <td>1.000000</td>\n",
              "    </tr>\n",
              "  </tbody>\n",
              "</table>\n",
              "</div>"
            ],
            "text/plain": [
              "       Pregnancies     Glucose  BloodPressure  SkinThickness     Insulin  \\\n",
              "count   768.000000  768.000000     768.000000     768.000000  768.000000   \n",
              "mean      3.845052  121.656250      72.386719      26.606479   94.652344   \n",
              "std       3.369578   30.438286      12.096642       9.631241  105.547598   \n",
              "min       0.000000   44.000000      24.000000       7.000000   14.000000   \n",
              "25%       1.000000   99.750000      64.000000      20.536458   30.500000   \n",
              "50%       3.000000  117.000000      72.000000      23.000000   31.250000   \n",
              "75%       6.000000  140.250000      80.000000      32.000000  127.250000   \n",
              "max      17.000000  199.000000     122.000000      99.000000  846.000000   \n",
              "\n",
              "              BMI  DiabetesPedigreeFunction         Age     Outcome  \n",
              "count  768.000000                768.000000  768.000000  768.000000  \n",
              "mean    32.450805                  0.471876   33.240885    0.348958  \n",
              "std      6.875374                  0.331329   11.760232    0.476951  \n",
              "min     18.200000                  0.078000   21.000000    0.000000  \n",
              "25%     27.500000                  0.243750   24.000000    0.000000  \n",
              "50%     32.000000                  0.372500   29.000000    0.000000  \n",
              "75%     36.600000                  0.626250   41.000000    1.000000  \n",
              "max     67.100000                  2.420000   81.000000    1.000000  "
            ]
          },
          "execution_count": 78,
          "metadata": {},
          "output_type": "execute_result"
        }
      ],
      "source": [
        "df.describe()"
      ]
    },
    {
      "cell_type": "markdown",
      "id": "nwWoCjpRC1gi",
      "metadata": {
        "id": "nwWoCjpRC1gi"
      },
      "source": [
        "## Question 2:\n",
        "\n",
        "What is the baseline accuracy for this classification problem? Baseline accuracy is the accuracy of always predicting the most common class. You can assume there are no outliers in the data."
      ]
    },
    {
      "cell_type": "code",
      "execution_count": 79,
      "id": "6jr2T0zPC1gj",
      "metadata": {
        "id": "6jr2T0zPC1gj"
      },
      "outputs": [
        {
          "name": "stdout",
          "output_type": "stream",
          "text": [
            "Baseline Accuracy: 65.10%\n"
          ]
        }
      ],
      "source": [
        "majority_class = df['Outcome'].mode()[0]\n",
        "baseline_accuracy = (df['Outcome'] == majority_class).mean()\n",
        "print(f\"Baseline Accuracy: {baseline_accuracy:.2%}\")"
      ]
    },
    {
      "cell_type": "markdown",
      "id": "TY8uSjkkC1gk",
      "metadata": {
        "id": "TY8uSjkkC1gk"
      },
      "source": [
        "## Question 3:\n",
        "\n",
        "Split the data into training and testing sets. Use 70% of the data for training and 30% for testing. Pass `random_state = 42` to `train_test_split`. Ensure the `Outcome` column is the response variable. Report the descriptive statistics of X_train and X_test."
      ]
    },
    {
      "cell_type": "code",
      "execution_count": 80,
      "id": "bOQXo-DRC1gk",
      "metadata": {
        "id": "bOQXo-DRC1gk"
      },
      "outputs": [
        {
          "data": {
            "text/markdown": [
              "### X_train.describe()"
            ],
            "text/plain": [
              "<IPython.core.display.Markdown object>"
            ]
          },
          "metadata": {},
          "output_type": "display_data"
        },
        {
          "data": {
            "text/html": [
              "<div>\n",
              "<style scoped>\n",
              "    .dataframe tbody tr th:only-of-type {\n",
              "        vertical-align: middle;\n",
              "    }\n",
              "\n",
              "    .dataframe tbody tr th {\n",
              "        vertical-align: top;\n",
              "    }\n",
              "\n",
              "    .dataframe thead th {\n",
              "        text-align: right;\n",
              "    }\n",
              "</style>\n",
              "<table border=\"1\" class=\"dataframe\">\n",
              "  <thead>\n",
              "    <tr style=\"text-align: right;\">\n",
              "      <th></th>\n",
              "      <th>Pregnancies</th>\n",
              "      <th>Glucose</th>\n",
              "      <th>BloodPressure</th>\n",
              "      <th>SkinThickness</th>\n",
              "      <th>Insulin</th>\n",
              "      <th>BMI</th>\n",
              "      <th>DiabetesPedigreeFunction</th>\n",
              "      <th>Age</th>\n",
              "      <th>Outcome</th>\n",
              "    </tr>\n",
              "  </thead>\n",
              "  <tbody>\n",
              "    <tr>\n",
              "      <th>count</th>\n",
              "      <td>538.000000</td>\n",
              "      <td>538.000000</td>\n",
              "      <td>538.000000</td>\n",
              "      <td>538.000000</td>\n",
              "      <td>538.000000</td>\n",
              "      <td>538.000000</td>\n",
              "      <td>538.000000</td>\n",
              "      <td>538.000000</td>\n",
              "      <td>538.000000</td>\n",
              "    </tr>\n",
              "    <tr>\n",
              "      <th>mean</th>\n",
              "      <td>3.825279</td>\n",
              "      <td>121.840149</td>\n",
              "      <td>72.708178</td>\n",
              "      <td>26.590042</td>\n",
              "      <td>96.173792</td>\n",
              "      <td>32.655067</td>\n",
              "      <td>0.472682</td>\n",
              "      <td>33.414498</td>\n",
              "      <td>0.351301</td>\n",
              "    </tr>\n",
              "    <tr>\n",
              "      <th>std</th>\n",
              "      <td>3.381838</td>\n",
              "      <td>30.601671</td>\n",
              "      <td>12.232172</td>\n",
              "      <td>9.773438</td>\n",
              "      <td>106.906074</td>\n",
              "      <td>6.963492</td>\n",
              "      <td>0.335444</td>\n",
              "      <td>11.799423</td>\n",
              "      <td>0.477821</td>\n",
              "    </tr>\n",
              "    <tr>\n",
              "      <th>min</th>\n",
              "      <td>0.000000</td>\n",
              "      <td>56.000000</td>\n",
              "      <td>24.000000</td>\n",
              "      <td>7.000000</td>\n",
              "      <td>14.000000</td>\n",
              "      <td>18.200000</td>\n",
              "      <td>0.078000</td>\n",
              "      <td>21.000000</td>\n",
              "      <td>0.000000</td>\n",
              "    </tr>\n",
              "    <tr>\n",
              "      <th>25%</th>\n",
              "      <td>1.000000</td>\n",
              "      <td>100.000000</td>\n",
              "      <td>64.000000</td>\n",
              "      <td>20.536458</td>\n",
              "      <td>30.500000</td>\n",
              "      <td>27.800000</td>\n",
              "      <td>0.238000</td>\n",
              "      <td>24.000000</td>\n",
              "      <td>0.000000</td>\n",
              "    </tr>\n",
              "    <tr>\n",
              "      <th>50%</th>\n",
              "      <td>3.000000</td>\n",
              "      <td>117.000000</td>\n",
              "      <td>72.000000</td>\n",
              "      <td>23.000000</td>\n",
              "      <td>31.250000</td>\n",
              "      <td>32.400000</td>\n",
              "      <td>0.365500</td>\n",
              "      <td>29.000000</td>\n",
              "      <td>0.000000</td>\n",
              "    </tr>\n",
              "    <tr>\n",
              "      <th>75%</th>\n",
              "      <td>6.000000</td>\n",
              "      <td>142.000000</td>\n",
              "      <td>80.000000</td>\n",
              "      <td>32.000000</td>\n",
              "      <td>129.500000</td>\n",
              "      <td>36.675000</td>\n",
              "      <td>0.637250</td>\n",
              "      <td>41.000000</td>\n",
              "      <td>1.000000</td>\n",
              "    </tr>\n",
              "    <tr>\n",
              "      <th>max</th>\n",
              "      <td>15.000000</td>\n",
              "      <td>197.000000</td>\n",
              "      <td>114.000000</td>\n",
              "      <td>99.000000</td>\n",
              "      <td>744.000000</td>\n",
              "      <td>67.100000</td>\n",
              "      <td>2.420000</td>\n",
              "      <td>72.000000</td>\n",
              "      <td>1.000000</td>\n",
              "    </tr>\n",
              "  </tbody>\n",
              "</table>\n",
              "</div>"
            ],
            "text/plain": [
              "       Pregnancies     Glucose  BloodPressure  SkinThickness     Insulin  \\\n",
              "count   538.000000  538.000000     538.000000     538.000000  538.000000   \n",
              "mean      3.825279  121.840149      72.708178      26.590042   96.173792   \n",
              "std       3.381838   30.601671      12.232172       9.773438  106.906074   \n",
              "min       0.000000   56.000000      24.000000       7.000000   14.000000   \n",
              "25%       1.000000  100.000000      64.000000      20.536458   30.500000   \n",
              "50%       3.000000  117.000000      72.000000      23.000000   31.250000   \n",
              "75%       6.000000  142.000000      80.000000      32.000000  129.500000   \n",
              "max      15.000000  197.000000     114.000000      99.000000  744.000000   \n",
              "\n",
              "              BMI  DiabetesPedigreeFunction         Age     Outcome  \n",
              "count  538.000000                538.000000  538.000000  538.000000  \n",
              "mean    32.655067                  0.472682   33.414498    0.351301  \n",
              "std      6.963492                  0.335444   11.799423    0.477821  \n",
              "min     18.200000                  0.078000   21.000000    0.000000  \n",
              "25%     27.800000                  0.238000   24.000000    0.000000  \n",
              "50%     32.400000                  0.365500   29.000000    0.000000  \n",
              "75%     36.675000                  0.637250   41.000000    1.000000  \n",
              "max     67.100000                  2.420000   72.000000    1.000000  "
            ]
          },
          "metadata": {},
          "output_type": "display_data"
        },
        {
          "data": {
            "text/markdown": [
              "### X_test.describe()"
            ],
            "text/plain": [
              "<IPython.core.display.Markdown object>"
            ]
          },
          "metadata": {},
          "output_type": "display_data"
        },
        {
          "data": {
            "text/html": [
              "<div>\n",
              "<style scoped>\n",
              "    .dataframe tbody tr th:only-of-type {\n",
              "        vertical-align: middle;\n",
              "    }\n",
              "\n",
              "    .dataframe tbody tr th {\n",
              "        vertical-align: top;\n",
              "    }\n",
              "\n",
              "    .dataframe thead th {\n",
              "        text-align: right;\n",
              "    }\n",
              "</style>\n",
              "<table border=\"1\" class=\"dataframe\">\n",
              "  <thead>\n",
              "    <tr style=\"text-align: right;\">\n",
              "      <th></th>\n",
              "      <th>Pregnancies</th>\n",
              "      <th>Glucose</th>\n",
              "      <th>BloodPressure</th>\n",
              "      <th>SkinThickness</th>\n",
              "      <th>Insulin</th>\n",
              "      <th>BMI</th>\n",
              "      <th>DiabetesPedigreeFunction</th>\n",
              "      <th>Age</th>\n",
              "      <th>Outcome</th>\n",
              "    </tr>\n",
              "  </thead>\n",
              "  <tbody>\n",
              "    <tr>\n",
              "      <th>count</th>\n",
              "      <td>230.000000</td>\n",
              "      <td>230.000000</td>\n",
              "      <td>230.000000</td>\n",
              "      <td>230.000000</td>\n",
              "      <td>230.000000</td>\n",
              "      <td>230.000000</td>\n",
              "      <td>230.000000</td>\n",
              "      <td>230.000000</td>\n",
              "      <td>230.000000</td>\n",
              "    </tr>\n",
              "    <tr>\n",
              "      <th>mean</th>\n",
              "      <td>3.891304</td>\n",
              "      <td>121.226087</td>\n",
              "      <td>71.634783</td>\n",
              "      <td>26.644928</td>\n",
              "      <td>91.093478</td>\n",
              "      <td>31.973011</td>\n",
              "      <td>0.469991</td>\n",
              "      <td>32.834783</td>\n",
              "      <td>0.343478</td>\n",
              "    </tr>\n",
              "    <tr>\n",
              "      <th>std</th>\n",
              "      <td>3.347607</td>\n",
              "      <td>30.114501</td>\n",
              "      <td>11.765415</td>\n",
              "      <td>9.310921</td>\n",
              "      <td>102.440189</td>\n",
              "      <td>6.655094</td>\n",
              "      <td>0.322208</td>\n",
              "      <td>11.683550</td>\n",
              "      <td>0.475905</td>\n",
              "    </tr>\n",
              "    <tr>\n",
              "      <th>min</th>\n",
              "      <td>0.000000</td>\n",
              "      <td>44.000000</td>\n",
              "      <td>40.000000</td>\n",
              "      <td>10.000000</td>\n",
              "      <td>18.000000</td>\n",
              "      <td>18.200000</td>\n",
              "      <td>0.085000</td>\n",
              "      <td>21.000000</td>\n",
              "      <td>0.000000</td>\n",
              "    </tr>\n",
              "    <tr>\n",
              "      <th>25%</th>\n",
              "      <td>1.000000</td>\n",
              "      <td>99.000000</td>\n",
              "      <td>64.000000</td>\n",
              "      <td>20.536458</td>\n",
              "      <td>30.500000</td>\n",
              "      <td>26.800000</td>\n",
              "      <td>0.256000</td>\n",
              "      <td>24.000000</td>\n",
              "      <td>0.000000</td>\n",
              "    </tr>\n",
              "    <tr>\n",
              "      <th>50%</th>\n",
              "      <td>3.000000</td>\n",
              "      <td>118.000000</td>\n",
              "      <td>72.000000</td>\n",
              "      <td>23.000000</td>\n",
              "      <td>33.250000</td>\n",
              "      <td>31.796289</td>\n",
              "      <td>0.384500</td>\n",
              "      <td>28.000000</td>\n",
              "      <td>0.000000</td>\n",
              "    </tr>\n",
              "    <tr>\n",
              "      <th>75%</th>\n",
              "      <td>6.000000</td>\n",
              "      <td>137.750000</td>\n",
              "      <td>80.000000</td>\n",
              "      <td>33.000000</td>\n",
              "      <td>125.750000</td>\n",
              "      <td>35.800000</td>\n",
              "      <td>0.614500</td>\n",
              "      <td>40.000000</td>\n",
              "      <td>1.000000</td>\n",
              "    </tr>\n",
              "    <tr>\n",
              "      <th>max</th>\n",
              "      <td>17.000000</td>\n",
              "      <td>199.000000</td>\n",
              "      <td>122.000000</td>\n",
              "      <td>51.000000</td>\n",
              "      <td>846.000000</td>\n",
              "      <td>52.900000</td>\n",
              "      <td>2.288000</td>\n",
              "      <td>81.000000</td>\n",
              "      <td>1.000000</td>\n",
              "    </tr>\n",
              "  </tbody>\n",
              "</table>\n",
              "</div>"
            ],
            "text/plain": [
              "       Pregnancies     Glucose  BloodPressure  SkinThickness     Insulin  \\\n",
              "count   230.000000  230.000000     230.000000     230.000000  230.000000   \n",
              "mean      3.891304  121.226087      71.634783      26.644928   91.093478   \n",
              "std       3.347607   30.114501      11.765415       9.310921  102.440189   \n",
              "min       0.000000   44.000000      40.000000      10.000000   18.000000   \n",
              "25%       1.000000   99.000000      64.000000      20.536458   30.500000   \n",
              "50%       3.000000  118.000000      72.000000      23.000000   33.250000   \n",
              "75%       6.000000  137.750000      80.000000      33.000000  125.750000   \n",
              "max      17.000000  199.000000     122.000000      51.000000  846.000000   \n",
              "\n",
              "              BMI  DiabetesPedigreeFunction         Age     Outcome  \n",
              "count  230.000000                230.000000  230.000000  230.000000  \n",
              "mean    31.973011                  0.469991   32.834783    0.343478  \n",
              "std      6.655094                  0.322208   11.683550    0.475905  \n",
              "min     18.200000                  0.085000   21.000000    0.000000  \n",
              "25%     26.800000                  0.256000   24.000000    0.000000  \n",
              "50%     31.796289                  0.384500   28.000000    0.000000  \n",
              "75%     35.800000                  0.614500   40.000000    1.000000  \n",
              "max     52.900000                  2.288000   81.000000    1.000000  "
            ]
          },
          "metadata": {},
          "output_type": "display_data"
        }
      ],
      "source": [
        "random_seed = 42\n",
        "X_train = df.sample(frac=0.7, random_state=random_seed)\n",
        "X_test = df.drop(X_train.index)\n",
        "display(Markdown(\"### X_train.describe()\"))\n",
        "display(X_train.describe())\n",
        "\n",
        "display(Markdown(\"### X_test.describe()\"))\n",
        "display(X_test.describe())\n"
      ]
    },
    {
      "cell_type": "markdown",
      "id": "of8-EZwnJZPi",
      "metadata": {
        "id": "of8-EZwnJZPi"
      },
      "source": [
        "**Written question: Are the descriptive statistics of the X_train and X_test datasets similar? Is this a reasonable dataset for the problem?**\n",
        "\n",
        "Given that the descriptive statistics differ in categories like mean and std by less than one in any given category i'd say this is a reasonable dataset."
      ]
    },
    {
      "cell_type": "markdown",
      "id": "M7EFl6XfJ9XB",
      "metadata": {
        "id": "M7EFl6XfJ9XB"
      },
      "source": [
        "**Written answer:**"
      ]
    },
    {
      "cell_type": "markdown",
      "id": "MaiclNWgC1gl",
      "metadata": {
        "id": "MaiclNWgC1gl"
      },
      "source": [
        "## Question 4:\n",
        "\n",
        "1. Create a pipeline that first standardizes the data using a z-scale transform, and then trains an instance of `LogisticRegression` with `penalty = None` and `max_iter = 1000`. Use the same random seed you used before.\n",
        "2. Train the pipeline using the training set."
      ]
    },
    {
      "cell_type": "code",
      "execution_count": 81,
      "id": "zX-AUhrpC1gl",
      "metadata": {
        "id": "zX-AUhrpC1gl"
      },
      "outputs": [
        {
          "data": {
            "text/html": [
              "<style>#sk-container-id-1 {color: black;background-color: white;}#sk-container-id-1 pre{padding: 0;}#sk-container-id-1 div.sk-toggleable {background-color: white;}#sk-container-id-1 label.sk-toggleable__label {cursor: pointer;display: block;width: 100%;margin-bottom: 0;padding: 0.3em;box-sizing: border-box;text-align: center;}#sk-container-id-1 label.sk-toggleable__label-arrow:before {content: \"▸\";float: left;margin-right: 0.25em;color: #696969;}#sk-container-id-1 label.sk-toggleable__label-arrow:hover:before {color: black;}#sk-container-id-1 div.sk-estimator:hover label.sk-toggleable__label-arrow:before {color: black;}#sk-container-id-1 div.sk-toggleable__content {max-height: 0;max-width: 0;overflow: hidden;text-align: left;background-color: #f0f8ff;}#sk-container-id-1 div.sk-toggleable__content pre {margin: 0.2em;color: black;border-radius: 0.25em;background-color: #f0f8ff;}#sk-container-id-1 input.sk-toggleable__control:checked~div.sk-toggleable__content {max-height: 200px;max-width: 100%;overflow: auto;}#sk-container-id-1 input.sk-toggleable__control:checked~label.sk-toggleable__label-arrow:before {content: \"▾\";}#sk-container-id-1 div.sk-estimator input.sk-toggleable__control:checked~label.sk-toggleable__label {background-color: #d4ebff;}#sk-container-id-1 div.sk-label input.sk-toggleable__control:checked~label.sk-toggleable__label {background-color: #d4ebff;}#sk-container-id-1 input.sk-hidden--visually {border: 0;clip: rect(1px 1px 1px 1px);clip: rect(1px, 1px, 1px, 1px);height: 1px;margin: -1px;overflow: hidden;padding: 0;position: absolute;width: 1px;}#sk-container-id-1 div.sk-estimator {font-family: monospace;background-color: #f0f8ff;border: 1px dotted black;border-radius: 0.25em;box-sizing: border-box;margin-bottom: 0.5em;}#sk-container-id-1 div.sk-estimator:hover {background-color: #d4ebff;}#sk-container-id-1 div.sk-parallel-item::after {content: \"\";width: 100%;border-bottom: 1px solid gray;flex-grow: 1;}#sk-container-id-1 div.sk-label:hover label.sk-toggleable__label {background-color: #d4ebff;}#sk-container-id-1 div.sk-serial::before {content: \"\";position: absolute;border-left: 1px solid gray;box-sizing: border-box;top: 0;bottom: 0;left: 50%;z-index: 0;}#sk-container-id-1 div.sk-serial {display: flex;flex-direction: column;align-items: center;background-color: white;padding-right: 0.2em;padding-left: 0.2em;position: relative;}#sk-container-id-1 div.sk-item {position: relative;z-index: 1;}#sk-container-id-1 div.sk-parallel {display: flex;align-items: stretch;justify-content: center;background-color: white;position: relative;}#sk-container-id-1 div.sk-item::before, #sk-container-id-1 div.sk-parallel-item::before {content: \"\";position: absolute;border-left: 1px solid gray;box-sizing: border-box;top: 0;bottom: 0;left: 50%;z-index: -1;}#sk-container-id-1 div.sk-parallel-item {display: flex;flex-direction: column;z-index: 1;position: relative;background-color: white;}#sk-container-id-1 div.sk-parallel-item:first-child::after {align-self: flex-end;width: 50%;}#sk-container-id-1 div.sk-parallel-item:last-child::after {align-self: flex-start;width: 50%;}#sk-container-id-1 div.sk-parallel-item:only-child::after {width: 0;}#sk-container-id-1 div.sk-dashed-wrapped {border: 1px dashed gray;margin: 0 0.4em 0.5em 0.4em;box-sizing: border-box;padding-bottom: 0.4em;background-color: white;}#sk-container-id-1 div.sk-label label {font-family: monospace;font-weight: bold;display: inline-block;line-height: 1.2em;}#sk-container-id-1 div.sk-label-container {text-align: center;}#sk-container-id-1 div.sk-container {/* jupyter's `normalize.less` sets `[hidden] { display: none; }` but bootstrap.min.css set `[hidden] { display: none !important; }` so we also need the `!important` here to be able to override the default hidden behavior on the sphinx rendered scikit-learn.org. See: https://github.com/scikit-learn/scikit-learn/issues/21755 */display: inline-block !important;position: relative;}#sk-container-id-1 div.sk-text-repr-fallback {display: none;}</style><div id=\"sk-container-id-1\" class=\"sk-top-container\"><div class=\"sk-text-repr-fallback\"><pre>Pipeline(steps=[(&#x27;scaler&#x27;, StandardScaler()),\n",
              "                (&#x27;logreg&#x27;,\n",
              "                 LogisticRegression(max_iter=1000, penalty=None,\n",
              "                                    random_state=42))])</pre><b>In a Jupyter environment, please rerun this cell to show the HTML representation or trust the notebook. <br />On GitHub, the HTML representation is unable to render, please try loading this page with nbviewer.org.</b></div><div class=\"sk-container\" hidden><div class=\"sk-item sk-dashed-wrapped\"><div class=\"sk-label-container\"><div class=\"sk-label sk-toggleable\"><input class=\"sk-toggleable__control sk-hidden--visually\" id=\"sk-estimator-id-1\" type=\"checkbox\" ><label for=\"sk-estimator-id-1\" class=\"sk-toggleable__label sk-toggleable__label-arrow\">Pipeline</label><div class=\"sk-toggleable__content\"><pre>Pipeline(steps=[(&#x27;scaler&#x27;, StandardScaler()),\n",
              "                (&#x27;logreg&#x27;,\n",
              "                 LogisticRegression(max_iter=1000, penalty=None,\n",
              "                                    random_state=42))])</pre></div></div></div><div class=\"sk-serial\"><div class=\"sk-item\"><div class=\"sk-estimator sk-toggleable\"><input class=\"sk-toggleable__control sk-hidden--visually\" id=\"sk-estimator-id-2\" type=\"checkbox\" ><label for=\"sk-estimator-id-2\" class=\"sk-toggleable__label sk-toggleable__label-arrow\">StandardScaler</label><div class=\"sk-toggleable__content\"><pre>StandardScaler()</pre></div></div></div><div class=\"sk-item\"><div class=\"sk-estimator sk-toggleable\"><input class=\"sk-toggleable__control sk-hidden--visually\" id=\"sk-estimator-id-3\" type=\"checkbox\" ><label for=\"sk-estimator-id-3\" class=\"sk-toggleable__label sk-toggleable__label-arrow\">LogisticRegression</label><div class=\"sk-toggleable__content\"><pre>LogisticRegression(max_iter=1000, penalty=None, random_state=42)</pre></div></div></div></div></div></div></div>"
            ],
            "text/plain": [
              "Pipeline(steps=[('scaler', StandardScaler()),\n",
              "                ('logreg',\n",
              "                 LogisticRegression(max_iter=1000, penalty=None,\n",
              "                                    random_state=42))])"
            ]
          },
          "execution_count": 81,
          "metadata": {},
          "output_type": "execute_result"
        }
      ],
      "source": [
        "# Question 4 code\n",
        "# Create a pipeline that scales the features and trains a logistic regression model\n",
        "y_train = X_train['Outcome']\n",
        "X_train = X_train.drop('Outcome', axis=1)\n",
        "\n",
        "y_test = X_test['Outcome']\n",
        "X_test = X_test.drop('Outcome', axis=1)\n",
        "\n",
        "pipeline = Pipeline([\n",
        "    ('scaler', StandardScaler()),  \n",
        "    ('logreg', LogisticRegression(\n",
        "        penalty=None,        \n",
        "        max_iter=1000,        \n",
        "        solver='lbfgs',       \n",
        "        random_state=random_seed  \n",
        "    ))\n",
        "])\n",
        "\n",
        "pipeline.fit(X_train, y_train)"
      ]
    },
    {
      "cell_type": "markdown",
      "id": "WAnv4-Nqhp_U",
      "metadata": {
        "id": "WAnv4-Nqhp_U"
      },
      "source": [
        "## Question 5:\n",
        "\n",
        "1. Compute the model’s accuracy on the training and testing sets.\n",
        "2. Display the model’s coefficients and intercept."
      ]
    },
    {
      "cell_type": "code",
      "execution_count": 85,
      "id": "eyXmnFjRL7D4",
      "metadata": {
        "id": "eyXmnFjRL7D4"
      },
      "outputs": [
        {
          "name": "stdout",
          "output_type": "stream",
          "text": [
            "Coefficients: [[ 0.510888    1.20327671 -0.11841178 -0.00120787 -0.21397588  0.66217407\n",
            "   0.37731992  0.10000004]]\n",
            "Intercept: [-0.85082886]\n"
          ]
        }
      ],
      "source": [
        "# Display coefficients\n",
        "# Get the training parameters in a dataframe with the corresponding feature names\n",
        "logreg_model = pipeline.named_steps['logreg']\n",
        "coefficients = logreg_model.coef_\n",
        "\n",
        "\n",
        "# Get the intercept of the logistic regression model\n",
        "intercept = logreg_model.intercept_\n",
        "\n",
        "print(\"Coefficients:\", coefficients)\n",
        "print(\"Intercept:\", intercept)\n",
        "\n"
      ]
    },
    {
      "cell_type": "code",
      "execution_count": 83,
      "id": "3U4frtj0MN0q",
      "metadata": {
        "id": "3U4frtj0MN0q"
      },
      "outputs": [
        {
          "name": "stdout",
          "output_type": "stream",
          "text": [
            "Accuracy test: 74.35%\n",
            "Accuracy train: 79.18%\n"
          ]
        }
      ],
      "source": [
        "# Calculate accuracy\n",
        "y_pred_test = pipeline.predict(X_test)\n",
        "y_pred_train = pipeline.predict(X_train)\n",
        "accuracy_test = accuracy_score(y_test, y_pred_test)\n",
        "accuracy_train = accuracy_score(y_train, y_pred_train)\n",
        "\n",
        "print(f\"Accuracy test: {accuracy_test:.2%}\")\n",
        "print(f\"Accuracy train: {accuracy_train:.2%}\")\n",
        "\n",
        "\n",
        "\n"
      ]
    },
    {
      "cell_type": "markdown",
      "id": "lYiUpH_YC1gm",
      "metadata": {
        "id": "lYiUpH_YC1gm"
      },
      "source": [
        "## Question 6:\n",
        "\n",
        "1. Plot the ROC curve for the logistic regression model using the testing set. Make sure your plot includes a title and properly labeled axes.\n",
        "2. Compute the area under the curve (AUC). Report the AUC at the top-left of your plot."
      ]
    },
    {
      "cell_type": "code",
      "execution_count": 84,
      "id": "9KVu82JLC1gn",
      "metadata": {
        "id": "9KVu82JLC1gn"
      },
      "outputs": [
        {
          "data": {
            "image/png": "[encoded data removed]",
            "text/plain": [
              "<Figure size 800x600 with 1 Axes>"
            ]
          },
          "metadata": {},
          "output_type": "display_data"
        }
      ],
      "source": [
        "# Question 6 code\n",
        "# Compute probabilities\n",
        "fpr, tpr, thresholds = roc_curve(y_test, y_pred_test)\n",
        "auc_score = roc_auc_score(y_test, y_pred_test)\n",
        "\n",
        "# Plot ROC curve\n",
        "plt.figure(figsize=(8, 6))\n",
        "plt.plot(fpr, tpr, color='blue', label=f'ROC Curve (AUC = {auc_score:.2f})')\n",
        "plt.plot([0, 1], [0, 1], color='red', linestyle='--', label='Random Guessing')\n",
        "plt.xlabel('False Positive Rate')\n",
        "plt.ylabel('True Positive Rate')\n",
        "plt.title('Receiver Operating Characteristic (ROC) Curve')\n",
        "plt.legend(loc='lower right')\n",
        "plt.grid(True)\n",
        "plt.show()\n",
        "\n",
        "\n",
        "\n",
        "\n",
        "\n",
        "\n",
        "\n",
        "\n",
        "\n"
      ]
    },
    {
      "cell_type": "markdown",
      "id": "HCZwuokNhJ5t",
      "metadata": {
        "id": "HCZwuokNhJ5t"
      },
      "source": [
        "**Written question: Comment on the capacity of the model to predict the outcome. Is the AUC acceptable?**"
      ]
    },
    {
      "cell_type": "markdown",
      "id": "pHYWJFK0QmFG",
      "metadata": {
        "id": "pHYWJFK0QmFG"
      },
      "source": [
        "**Written answer:**\n",
        "\n",
        "An AUC of 0.68 indicates that your logistic regression model has a modest ability to discriminate between the positive and negative classes. I would say this is not acceptable given the \n",
        "risk of providing a FN."
      ]
    }
  ],
  "metadata": {
    "colab": {
      "provenance": []
    },
    "kernelspec": {
      "display_name": "base",
      "language": "python",
      "name": "python3"
    },
    "language_info": {
      "codemirror_mode": {
        "name": "ipython",
        "version": 3
      },
      "file_extension": ".py",
      "mimetype": "text/x-python",
      "name": "python",
      "nbconvert_exporter": "python",
      "pygments_lexer": "ipython3",
      "version": "3.10.9"
    }
  },
  "nbformat": 4,
  "nbformat_minor": 5
}
