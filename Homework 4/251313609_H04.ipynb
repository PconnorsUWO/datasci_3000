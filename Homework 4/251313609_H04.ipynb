{
 "cells": [
  {
   "cell_type": "markdown",
   "metadata": {
    "id": "twKpLeRhDeyQ"
   },
   "source": [
    "# Homework 4\n",
    "\n",
    "## Follow These Steps Before Submitting\n",
    "Once you are finished, ensure to complete the following steps.\n",
    "\n",
    "1.  Restart your kernel by clicking 'Kernel' > 'Restart & Run All'.\n",
    "\n",
    "2.  Fix any errors which result from this.\n",
    "\n",
    "3.  Repeat steps 1. and 2. until your notebook runs without errors.\n",
    "\n",
    "4.  Submit your completed notebook to OWL by the deadline.\n"
   ]
  },
  {
   "cell_type": "markdown",
   "metadata": {
    "id": "waD8EZwFMt1U"
   },
   "source": [
    "# 1. Wisconsin Breast Cancer Dataset\n",
    "\n",
    "In this assignment, you will use a modified version of the well-known Wisconsin Breast Cancer dataset. We want to predict if a patient has a malignant or benign tumour. The features in the dataset are described below:\n",
    "\n",
    "\n",
    "**Cl.thickness**:\tClump Thickness\n",
    "\n",
    "**Cell.size**:\tUniformity of Cell Size\n",
    "\n",
    "**Cell.shape**:\tUniformity of Cell Shape\n",
    "\n",
    "**Marg.adhesion**:\tMarginal Adhesion\n",
    "\n",
    "**Epith.c.size**:\tSingle Epithelial Cell Size\n",
    "\n",
    "**Bare.nuclei**:\tBare Nuclei\n",
    "\n",
    "**Bl.cromatin**:\tBland Chromatin\n",
    "\n",
    "**Normal.nucleoli**:\tNormal Nucleoli\n",
    "\n",
    "**Mitoses**:\tMitoses\n",
    "\n",
    "**Age**: Age\n",
    "\n",
    "**Class**: 1 if malignant, 0 if benign"
   ]
  },
  {
   "cell_type": "code",
   "execution_count": 2,
   "metadata": {
    "id": "zJdm6Uxlq-kc"
   },
   "outputs": [],
   "source": [
    "# Package import\n",
    "import numpy as np\n",
    "\n",
    "# Scikit-learn imports\n",
    "from sklearn.model_selection import train_test_split, cross_validate, RepeatedKFold\n",
    "from sklearn.pipeline import Pipeline\n",
    "from sklearn.linear_model import LogisticRegression\n",
    "from sklearn.metrics import confusion_matrix, roc_curve, roc_auc_score, classification_report, accuracy_score\n",
    "from sklearn.preprocessing import StandardScaler\n",
    "from sklearn.compose import ColumnTransformer\n",
    "\n",
    "# Data management imports\n",
    "import pandas as pd\n",
    "import sys\n",
    "import polars as pl\n",
    "\n",
    "# Plotting imports\n",
    "import matplotlib.pyplot as plt\n",
    "import seaborn as sns\n",
    "%matplotlib inline"
   ]
  },
  {
   "cell_type": "code",
   "execution_count": 2,
   "metadata": {
    "id": "nKQxNU4X6i3I"
   },
   "outputs": [],
   "source": [
    "# Uncomment the line below if you are using Google colab\n",
    "# !gdown https://drive.google.com/uc?id=12Y-PdpmPLInGGBvFAn_G3eCfXrRETvuF"
   ]
  },
  {
   "cell_type": "markdown",
   "metadata": {
    "id": "tTKdVYZLGm-b"
   },
   "source": [
    "1. Read the CSV file using Polars and store it. Use \"null_values=['NA']\". Show summary statistics for the dataset. What is the baseline accuracy for a model?"
   ]
  },
  {
   "cell_type": "code",
   "execution_count": 12,
   "metadata": {
    "id": "Wj-Yl2t5JW0Y"
   },
   "outputs": [
    {
     "name": "stdout",
     "output_type": "stream",
     "text": [
      "Baseline accuracy: 0.66\n"
     ]
    }
   ],
   "source": [
    "df = pl.read_csv(\"Breast Cancer Data.csv\", null_values=['NA'])\n",
    "df.describe()\n",
    "\n",
    "majority_count = df['Class'].value_counts().max()['count'][0]\n",
    "baseline_accuracy = majority_count / len(df['Class'])\n",
    "\n",
    "\n",
    "print(f\"Baseline accuracy: {baseline_accuracy:.2f}\")\n",
    "\n",
    "\n",
    "\n"
   ]
  },
  {
   "cell_type": "markdown",
   "metadata": {
    "id": "P6oA1stMv5Fj"
   },
   "source": []
  },
  {
   "cell_type": "markdown",
   "metadata": {
    "id": "1tw6pJdOcY_k"
   },
   "source": [
    "2. Assume that we are only interested in studying people aged 100 or less. Remove anyone with ages larger than that. (Note that this slightly changes your baseline accuracy.)"
   ]
  },
  {
   "cell_type": "code",
   "execution_count": 16,
   "metadata": {
    "id": "CwASQWPl87ye"
   },
   "outputs": [],
   "source": [
    "df = df.filter(pl.col(\"Age\") <= 100)"
   ]
  },
  {
   "cell_type": "markdown",
   "metadata": {
    "id": "4rSrLV3hnrek"
   },
   "source": [
    "3. Replace the missing values in the dataset using the median of the corresponding predictor."
   ]
  },
  {
   "cell_type": "code",
   "execution_count": 17,
   "metadata": {
    "id": "htFdyZepn1uB"
   },
   "outputs": [
    {
     "ename": "AttributeError",
     "evalue": "'DataFrame' object has no attribute 'with_column'",
     "output_type": "error",
     "traceback": [
      "\u001b[1;31m---------------------------------------------------------------------------\u001b[0m",
      "\u001b[1;31mAttributeError\u001b[0m                            Traceback (most recent call last)",
      "Cell \u001b[1;32mIn[17], line 4\u001b[0m\n\u001b[0;32m      2\u001b[0m     \u001b[38;5;28;01mif\u001b[39;00m dtype \u001b[38;5;129;01min\u001b[39;00m (pl\u001b[38;5;241m.\u001b[39mInt64, pl\u001b[38;5;241m.\u001b[39mFloat64):\n\u001b[0;32m      3\u001b[0m         median_value \u001b[38;5;241m=\u001b[39m df[col_name]\u001b[38;5;241m.\u001b[39mmedian()\n\u001b[1;32m----> 4\u001b[0m         df \u001b[38;5;241m=\u001b[39m \u001b[43mdf\u001b[49m\u001b[38;5;241;43m.\u001b[39;49m\u001b[43mwith_column\u001b[49m(pl\u001b[38;5;241m.\u001b[39mcol(col_name)\u001b[38;5;241m.\u001b[39mfill_null(median_value))\n\u001b[0;32m      6\u001b[0m \u001b[38;5;28mprint\u001b[39m(\u001b[38;5;124m\"\u001b[39m\u001b[38;5;130;01m\\n\u001b[39;00m\u001b[38;5;124mDataFrame after replacing NA values with the predictor\u001b[39m\u001b[38;5;124m'\u001b[39m\u001b[38;5;124ms median:\u001b[39m\u001b[38;5;124m\"\u001b[39m)\n\u001b[0;32m      7\u001b[0m \u001b[38;5;28mprint\u001b[39m(df)\n",
      "\u001b[1;31mAttributeError\u001b[0m: 'DataFrame' object has no attribute 'with_column'"
     ]
    }
   ],
   "source": [
    "for col_name, dtype in df.schema.items():\n",
    "    if dtype in (pl.Int64, pl.Float64):\n",
    "        median_value = df[col_name].median()\n",
    "        df = df.filter(df[col_name].is_not_null())\n",
    "\n",
    "print(\"\\nDataFrame after replacing NA values with the predictor's median:\")\n",
    "print(df)\n"
   ]
  },
  {
   "cell_type": "markdown",
   "metadata": {
    "id": "GR9-bjxqcZ_V"
   },
   "source": [
    "4. Create a training and testing dataset. Reserve 30% of the data for testing and stratify the split based on the outcome. Use a random state of 0."
   ]
  },
  {
   "cell_type": "code",
   "execution_count": null,
   "metadata": {
    "id": "uKXVS9DWcaPy"
   },
   "outputs": [],
   "source": []
  },
  {
   "cell_type": "markdown",
   "metadata": {
    "id": "ZD6jBNP7wd_d"
   },
   "source": [
    "5. Using all potential predictors, train a logistic regression model to predict if a patient has the condition. Remember to standardize the predictors. Use the following arguments: solver='lbfgs', penalty=None, max_iter=10000, verbose=1, random_state=0, and n_jobs=-1."
   ]
  },
  {
   "cell_type": "code",
   "execution_count": null,
   "metadata": {
    "id": "SVgbr2N1wt97"
   },
   "outputs": [],
   "source": []
  },
  {
   "cell_type": "markdown",
   "metadata": {
    "id": "0FNliCyvxT19"
   },
   "source": [
    "6. Compute the accuracy and AUC of your model on the test set."
   ]
  },
  {
   "cell_type": "code",
   "execution_count": null,
   "metadata": {
    "id": "Qo-ltgtixP8w"
   },
   "outputs": [],
   "source": []
  },
  {
   "cell_type": "markdown",
   "metadata": {
    "id": "tFgizytIy143"
   },
   "source": [
    "7. Without estimates of the uncertainty of the performance metrics, it can be hard to make definitive conclusions about the performance of the model. Compute 95% confidence intervals for the accuracy and AUC using bootstrapping with 1000 replicates. Interpret your results."
   ]
  },
  {
   "cell_type": "code",
   "execution_count": null,
   "metadata": {
    "id": "cr4Vaxsry2la"
   },
   "outputs": [],
   "source": []
  },
  {
   "cell_type": "code",
   "execution_count": null,
   "metadata": {
    "id": "bYuUSnj4zRCz"
   },
   "outputs": [],
   "source": []
  },
  {
   "cell_type": "markdown",
   "metadata": {
    "id": "Wxiy5SdXztLC"
   },
   "source": []
  },
  {
   "cell_type": "markdown",
   "metadata": {
    "id": "C1Q_m8y2J-Nv"
   },
   "source": [
    "8. Plot the distribution of the accuracy and AUC using histograms. Make sure to provide a title and axes labels for your plots. Add a red vertical line representing the mean of accuracy and AUC."
   ]
  },
  {
   "cell_type": "code",
   "execution_count": null,
   "metadata": {
    "id": "H-jG2Z_sJ-rL"
   },
   "outputs": [],
   "source": []
  },
  {
   "cell_type": "code",
   "execution_count": null,
   "metadata": {
    "id": "nQHgBLMjKLC8"
   },
   "outputs": [],
   "source": []
  },
  {
   "cell_type": "markdown",
   "metadata": {
    "id": "HoP1pP6l5L4h"
   },
   "source": [
    "9. Compute 95% confidence intervals for the accuracy and AUC using repeated cross-validation. Use 10 splits and 100 repetitions with a random state of 0. Compare your results to what you obtained using bootstrapping. Which method provides better confidence intervals in this case?"
   ]
  },
  {
   "cell_type": "code",
   "execution_count": null,
   "metadata": {
    "id": "uSeWUQTZ5MDe"
   },
   "outputs": [],
   "source": []
  },
  {
   "cell_type": "code",
   "execution_count": null,
   "metadata": {
    "id": "oCdmGJYM5fjm"
   },
   "outputs": [],
   "source": []
  },
  {
   "cell_type": "markdown",
   "metadata": {
    "id": "-z893LWUjNW_"
   },
   "source": []
  },
  {
   "cell_type": "markdown",
   "metadata": {
    "id": "XqvhSwBM8riL"
   },
   "source": [
    "10. Using your cross-validation results, compute a 95% confidence interval for each coefficient in the model. Which feature(s) might you remove based on this?"
   ]
  },
  {
   "cell_type": "code",
   "execution_count": null,
   "metadata": {
    "id": "ULcmyhK48t9v"
   },
   "outputs": [],
   "source": []
  },
  {
   "cell_type": "markdown",
   "metadata": {
    "id": "PDhYQMGNG_kt"
   },
   "source": []
  },
  {
   "cell_type": "markdown",
   "metadata": {
    "id": "6ZvnP0Wc81Og"
   },
   "source": [
    "11. Fit your logistic regression model like before but remove the feature(s) you indentified in Q10. Plot the ROC curve of the model over the test set and annotate it with the AUC of the model."
   ]
  },
  {
   "cell_type": "code",
   "execution_count": null,
   "metadata": {
    "id": "h506WTyw8xIq"
   },
   "outputs": [],
   "source": []
  },
  {
   "cell_type": "code",
   "execution_count": null,
   "metadata": {
    "id": "8w5t968Fwnus"
   },
   "outputs": [],
   "source": []
  },
  {
   "cell_type": "markdown",
   "metadata": {
    "id": "_FHVaoRi80ZK"
   },
   "source": [
    "12. Calculate the uncertainty for the prediction of the first testing patient.  Plot a histogram of the different predictions. Give the plot a title and axes labels. Add a red vertical line representing the mean of the predictions.\n",
    "\n",
    "Hint: If you need to stack a list of arrays, you can use [np.hstack(list)](https://numpy.org/doc/stable/reference/generated/numpy.hstack.html)."
   ]
  },
  {
   "cell_type": "code",
   "execution_count": null,
   "metadata": {
    "id": "vbyP6_ssNOh4"
   },
   "outputs": [],
   "source": []
  },
  {
   "cell_type": "code",
   "execution_count": null,
   "metadata": {
    "id": "uvaPzSUhO98k"
   },
   "outputs": [],
   "source": []
  }
 ],
 "metadata": {
  "colab": {
   "provenance": [
    {
     "file_id": "1r6zBj_Yo7hGra8A8swFbHVY4UvFb5vjQ",
     "timestamp": 1738079020338
    },
    {
     "file_id": "1cuCZODCO2UhPt2wQyzt3tcO6y3iRO0QD",
     "timestamp": 1736827747029
    },
    {
     "file_id": "11M2GDQXAjsFjjVRuWaGQlFLrunfq_gmO",
     "timestamp": 1736730198357
    }
   ]
  },
  "kernelspec": {
   "display_name": "base",
   "language": "python",
   "name": "python3"
  },
  "language_info": {
   "codemirror_mode": {
    "name": "ipython",
    "version": 3
   },
   "file_extension": ".py",
   "mimetype": "text/x-python",
   "name": "python",
   "nbconvert_exporter": "python",
   "pygments_lexer": "ipython3",
   "version": "3.10.9"
  }
 },
 "nbformat": 4,
 "nbformat_minor": 0
}
